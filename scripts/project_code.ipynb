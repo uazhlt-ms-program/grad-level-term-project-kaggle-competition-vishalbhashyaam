{
 "cells": [
  {
   "attachments": {},
   "cell_type": "markdown",
   "metadata": {},
   "source": [
    "## NLP Final Term Project\n",
    "# NAME: Vishal Bhashyaam\n",
    "# EMAIL: vishalbarizona.edu"
   ]
  },
  {
   "cell_type": "code",
   "execution_count": 34,
   "metadata": {},
   "outputs": [],
   "source": [
    "import pandas as pd\n",
    "import numpy as np\n",
    "import re\n",
    "from sklearn.feature_extraction.text import TfidfVectorizer\n",
    "from sklearn.model_selection import train_test_split, GridSearchCV\n",
    "from sklearn.linear_model import LogisticRegression\n",
    "from sklearn.ensemble import RandomForestClassifier\n",
    "from sklearn.metrics import classification_report\n",
    "from nltk.corpus import stopwords\n",
    "from nltk.stem import WordNetLemmatizer\n",
    "import nltk\n",
    "import unidecode\n",
    "\n",
    "\n",
    "\n",
    "\n",
    "# Load the data\n",
    "train_data = pd.read_csv('..\\\\data\\\\train.csv')\n",
    "test_data = pd.read_csv('..\\\\data\\\\test.csv')\n",
    "\n",
    "\n",
    "\n",
    "\n",
    "\n",
    "\n",
    "\n"
   ]
  },
  {
   "cell_type": "code",
   "execution_count": 35,
   "metadata": {},
   "outputs": [
    {
     "name": "stdout",
     "output_type": "stream",
     "text": [
      "                 ID         LABEL\n",
      "count  7.031700e+04  70317.000000\n",
      "mean   9.237206e+18      0.813687\n",
      "std    5.341639e+18      0.831365\n",
      "min    5.764730e+14      0.000000\n",
      "25%    4.592511e+18      0.000000\n",
      "50%    9.273194e+18      1.000000\n",
      "75%    1.387591e+19      2.000000\n",
      "max    1.844662e+19      2.000000\n",
      "LABEL\n",
      "0    32071\n",
      "1    19276\n",
      "2    18970\n",
      "dtype: int64\n",
      "Task Description: The task involves classifying text data into multiple categories.\n",
      "Number of classes: 3\n",
      "Dataset size: 70317\n"
     ]
    }
   ],
   "source": [
    "import seaborn as sns\n",
    "import matplotlib.pyplot as plt\n",
    "\n",
    "print(train_data.describe())\n",
    "print(train_data.groupby('LABEL').size())\n",
    "\n",
    "# Visualization for better understanding\n",
    "\n",
    "print(\"Task Description: The task involves classifying text data into multiple categories.\")\n",
    "print(\"Number of classes:\", train_data['LABEL'].nunique())\n",
    "print(\"Dataset size:\", train_data.shape[0])"
   ]
  },
  {
   "cell_type": "code",
   "execution_count": 36,
   "metadata": {},
   "outputs": [
    {
     "data": {
      "text/plain": [
       "\"sns.countplot(train_data['LABEL'])\\nplt.title('Label Distribution')\\nplt.show()\""
      ]
     },
     "execution_count": 36,
     "metadata": {},
     "output_type": "execute_result"
    }
   ],
   "source": [
    "\"\"\"sns.countplot(train_data['LABEL'])\n",
    "plt.title('Label Distribution')\n",
    "plt.show()\"\"\"\n",
    "\n",
    "# This code block takes a long time to run. Optional to run"
   ]
  },
  {
   "cell_type": "code",
   "execution_count": 37,
   "metadata": {},
   "outputs": [
    {
     "name": "stderr",
     "output_type": "stream",
     "text": [
      "[nltk_data] Downloading package stopwords to\n",
      "[nltk_data]     C:\\Users\\ASUS\\AppData\\Roaming\\nltk_data...\n",
      "[nltk_data]   Package stopwords is already up-to-date!\n",
      "[nltk_data] Downloading package wordnet to\n",
      "[nltk_data]     C:\\Users\\ASUS\\AppData\\Roaming\\nltk_data...\n",
      "[nltk_data]   Package wordnet is already up-to-date!\n"
     ]
    },
    {
     "data": {
      "text/plain": [
       "True"
      ]
     },
     "execution_count": 37,
     "metadata": {},
     "output_type": "execute_result"
    }
   ],
   "source": [
    "nltk.download('stopwords')\n",
    "nltk.download('wordnet')"
   ]
  },
  {
   "attachments": {},
   "cell_type": "markdown",
   "metadata": {},
   "source": [
    "## Text Preprocessing"
   ]
  },
  {
   "cell_type": "code",
   "execution_count": 22,
   "metadata": {},
   "outputs": [],
   "source": [
    "# Custom stopwords\n",
    "custom_stopwords = set(stopwords.words('english'))  # Add or remove words here\n",
    "\n",
    "# Text preprocessing function\n",
    "\n",
    "# Applying text preprocessing\n",
    "def preprocess_text(text):\n",
    "    if pd.isnull(text):\n",
    "        text = \"missingtext\"  # Placeholder for missing text\n",
    "    text = unidecode.unidecode(text)  # Convert accented characters to ASCII\n",
    "    text = str(text)\n",
    "    text = text.lower()\n",
    "    text = re.sub(r'\\W', ' ', text)\n",
    "    text = re.sub(r'\\s+[a-zA-Z]\\s+', ' ', text)\n",
    "    text = re.sub(r'\\s+', ' ', text, flags=re.I)\n",
    "    text = re.sub(r\"won\\'t\", \"will not\", text)\n",
    "    text = re.sub(r\"can\\'t\", \"cannot\", text)\n",
    "    text = re.sub(r\"n\\'t\", \" not\", text)\n",
    "    text = re.sub(r\"\\'re\", \" are\", text)\n",
    "    text = re.sub(r\"\\'s\", \" is\", text)\n",
    "    text = re.sub(r\"\\'d\", \" would\", text)\n",
    "    text = re.sub(r\"\\'ll\", \" will\", text)\n",
    "    text = re.sub(r\"\\'t\", \" not\", text)\n",
    "    text = re.sub(r\"\\'ve\", \" have\", text)\n",
    "    text = re.sub(r\"\\'m\", \" am\", text)\n",
    "    lemmatizer = WordNetLemmatizer()\n",
    "    text = ' '.join([lemmatizer.lemmatize(word) for word in text.split() if word not in custom_stopwords])\n",
    "    return text"
   ]
  },
  {
   "attachments": {},
   "cell_type": "markdown",
   "metadata": {},
   "source": [
    "## Vectorization and Data Splitting (Train and Validation)"
   ]
  },
  {
   "cell_type": "code",
   "execution_count": 23,
   "metadata": {},
   "outputs": [],
   "source": [
    "train_data['TEXT'] = train_data['TEXT'].apply(preprocess_text)\n",
    "test_data['TEXT'] = test_data['TEXT'].apply(preprocess_text)\n",
    "\n",
    "# Data vectorization with trigrams\n",
    "vectorizer = TfidfVectorizer(max_features=5000, ngram_range=(1, 3))\n",
    "X_train = vectorizer.fit_transform(train_data['TEXT'])\n",
    "y_train = train_data['LABEL']\n",
    "X_test = vectorizer.transform(test_data['TEXT'])\n",
    "\n",
    "# Splitting the data into training and validation sets\n",
    "X_train_split, X_val_split, y_train_split, y_val_split = train_test_split(X_train, y_train, test_size=0.2, random_state=42)\n"
   ]
  },
  {
   "attachments": {},
   "cell_type": "markdown",
   "metadata": {},
   "source": [
    "## Training the Modle using Logistic Regression (Custom parameters)"
   ]
  },
  {
   "cell_type": "code",
   "execution_count": 24,
   "metadata": {},
   "outputs": [
    {
     "name": "stdout",
     "output_type": "stream",
     "text": [
      "Logistic Regression Classification Report:\n",
      "              precision    recall  f1-score   support\n",
      "\n",
      "           0       0.96      0.99      0.97      6454\n",
      "           1       0.88      0.86      0.87      3856\n",
      "           2       0.89      0.86      0.88      3754\n",
      "\n",
      "    accuracy                           0.92     14064\n",
      "   macro avg       0.91      0.90      0.91     14064\n",
      "weighted avg       0.92      0.92      0.92     14064\n",
      "\n"
     ]
    }
   ],
   "source": [
    "# Training the Logistic Regression model with hyperparameter tuning\n",
    "params = {'C': [0.1, 1, 10], 'solver': ['liblinear', 'lbfgs']}\n",
    "grid_search = GridSearchCV(LogisticRegression(random_state=42, max_iter=1000), params, cv=3)\n",
    "grid_search.fit(X_train_split, y_train_split)\n",
    "best_lr_model = grid_search.best_estimator_\n",
    "\n",
    "# Model evaluation\n",
    "y_val_pred_lr = best_lr_model.predict(X_val_split)\n",
    "print(\"Logistic Regression Classification Report:\")\n",
    "print(classification_report(y_val_split, y_val_pred_lr))\n",
    "\n",
    "\n"
   ]
  },
  {
   "cell_type": "code",
   "execution_count": 25,
   "metadata": {},
   "outputs": [
    {
     "name": "stdout",
     "output_type": "stream",
     "text": [
      "Random Forest Classification Report:\n",
      "              precision    recall  f1-score   support\n",
      "\n",
      "           0       0.96      0.99      0.97      6454\n",
      "           1       0.80      0.84      0.82      3856\n",
      "           2       0.85      0.77      0.81      3754\n",
      "\n",
      "    accuracy                           0.89     14064\n",
      "   macro avg       0.87      0.86      0.87     14064\n",
      "weighted avg       0.89      0.89      0.89     14064\n",
      "\n"
     ]
    }
   ],
   "source": [
    "# Comparing with Random Forest Classifier\n",
    "rf_model = RandomForestClassifier(random_state=42, n_estimators=100)\n",
    "rf_model.fit(X_train_split, y_train_split)\n",
    "y_val_pred_rf = rf_model.predict(X_val_split)\n",
    "print(\"Random Forest Classification Report:\")\n",
    "print(classification_report(y_val_split, y_val_pred_rf))\n",
    "\n"
   ]
  },
  {
   "cell_type": "code",
   "execution_count": 26,
   "metadata": {},
   "outputs": [],
   "source": [
    "# Predicting labels for the test dataset using the best model\n",
    "y_test_pred = best_lr_model.predict(X_test)\n"
   ]
  },
  {
   "cell_type": "code",
   "execution_count": 41,
   "metadata": {},
   "outputs": [
    {
     "data": {
      "image/png": "[encoded data removed]",
      "text/plain": [
       "<Figure size 800x600 with 2 Axes>"
      ]
     },
     "metadata": {},
     "output_type": "display_data"
    }
   ],
   "source": [
    "# Compute the confusion matrix\n",
    "from sklearn.metrics import confusion_matrix\n",
    "\n",
    "cm = confusion_matrix(y_val_split, y_val_pred_lr)\n",
    "\n",
    "# Plotting the confusion matrix\n",
    "plt.figure(figsize=(8, 6))\n",
    "sns.heatmap(cm, annot=True, fmt='d', cmap='Blues', xticklabels=['Class 0', 'Class 1', 'Class 2'], yticklabels=['Class 0', 'Class 1', 'Class 2'])\n",
    "plt.title('Confusion Matrix')\n",
    "plt.xlabel('Predicted Labels')\n",
    "plt.ylabel('True Labels')\n",
    "plt.show()"
   ]
  },
  {
   "cell_type": "code",
   "execution_count": 27,
   "metadata": {},
   "outputs": [],
   "source": [
    "# Preparing the results for output\n",
    "results_df = pd.DataFrame({\n",
    "    \"ID\": test_data['ID'],\n",
    "    \"LABEL\": y_test_pred\n",
    "})\n",
    "\n",
    "# Save the results to a CSV file\n",
    "results_df.to_csv('submission.csv', index=False)"
   ]
  }
 ],
 "metadata": {
  "kernelspec": {
   "display_name": "nlp_project",
   "language": "python",
   "name": "python3"
  },
  "language_info": {
   "codemirror_mode": {
    "name": "ipython",
    "version": 3
   },
   "file_extension": ".py",
   "mimetype": "text/x-python",
   "name": "python",
   "nbconvert_exporter": "python",
   "pygments_lexer": "ipython3",
   "version": "3.12.3"
  },
  "orig_nbformat": 4,
  "vscode": {
   "interpreter": {
    "hash": "abc29e07e1dd533628f880fc84297015769d655f3c70bcc90623124f186a2bca"
   }
  }
 },
 "nbformat": 4,
 "nbformat_minor": 2
}
